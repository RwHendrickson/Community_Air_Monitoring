{
 "cells": [
  {
   "cell_type": "markdown",
   "metadata": {},
   "source": [
    "# PurpleAir Stations QAQC"
   ]
  },
  {
   "cell_type": "markdown",
   "metadata": {},
   "source": [
    "## Import Packages"
   ]
  },
  {
   "cell_type": "code",
   "execution_count": 2,
   "metadata": {},
   "outputs": [],
   "source": [
    "### Import Packages\n",
    "\n",
    "# File manipulation\n",
    "\n",
    "import os # For working with Operating System\n",
    "import requests # Accessing the Web\n",
    "import datetime as dt # Working with dates/times\n",
    "\n",
    "# Database \n",
    "\n",
    "# import psycopg2\n",
    "# from psycopg2 import sql\n",
    "\n",
    "# Analysis\n",
    "\n",
    "import numpy as np\n",
    "import geopandas as gpd\n",
    "import pandas as pd\n",
    "\n",
    "# Get CWD\n",
    "\n",
    "cwd = os.getcwd()"
   ]
  },
  {
   "cell_type": "markdown",
   "metadata": {},
   "source": [
    "## Definitions"
   ]
  },
  {
   "cell_type": "code",
   "execution_count": 3,
   "metadata": {},
   "outputs": [
    {
     "name": "stdin",
     "output_type": "stream",
     "text": [
      "Please enter your Purple Air api key 51592903-B445-11ED-B6F4-42010A800007\n"
     ]
    }
   ],
   "source": [
    "# This is my personal API key... Please use responsibly! 51592903-B445-11ED-B6F4-42010A800007\n",
    "\n",
    "api = input('Please enter your Purple Air api key')"
   ]
  },
  {
   "cell_type": "code",
   "execution_count": 5,
   "metadata": {},
   "outputs": [],
   "source": [
    "#Setting lat/long for PurpleAir API Parameters\n",
    "\n",
    "datapath = os.path.join(cwd, '..', '..', 'Data')\n",
    "\n",
    "extent = gpd.read_file(os.path.join(datapath, 'extent.geojson'))\n",
    "\n",
    "nwlng, selat, selng, nwlat = extent.to_crs('EPSG:4326').total_bounds"
   ]
  },
  {
   "cell_type": "markdown",
   "metadata": {},
   "source": [
    "## Importing PurpleAir Station Data from PurpleAir API"
   ]
  },
  {
   "cell_type": "code",
   "execution_count": 6,
   "metadata": {},
   "outputs": [],
   "source": [
    "def getSensorsData(query='', api_read_key=''):\n",
    "\n",
    "    # my_url is assigned the URL we are going to send our request to.\n",
    "    url = 'https://api.purpleair.com/v1/sensors?' + query\n",
    "    \n",
    "    print('Here is the full url for the API call:\\n\\n', url)\n",
    "\n",
    "    # my_headers is assigned the context of our request we want to make. In this case\n",
    "    # we will pass through our API read key using the variable created above.\n",
    "    my_headers = {'X-API-Key':api_read_key}\n",
    "\n",
    "    # This line creates and sends the request and then assigns its response to the\n",
    "    # variable, r.\n",
    "    response = requests.get(url, headers=my_headers)\n",
    "\n",
    "    # We then return the response we received.\n",
    "    return response"
   ]
  },
  {
   "cell_type": "code",
   "execution_count": 7,
   "metadata": {},
   "outputs": [
    {
     "name": "stdout",
     "output_type": "stream",
     "text": [
      "nwlng=-93.43046973986235&nwlat=45.12326140727048&selng=-93.09304872066019&selat=44.81857616148092\n"
     ]
    }
   ],
   "source": [
    "#Set bounding strings for API parameters\n",
    "bounds_strings = [f'nwlng={nwlng}',\n",
    "                  f'nwlat={nwlat}',\n",
    "                  f'selng={selng}',\n",
    "                  f'selat={selat}']\n",
    "\n",
    "bounds_string = '&'.join(bounds_strings)\n",
    "\n",
    "print(bounds_string)"
   ]
  },
  {
   "cell_type": "code",
   "execution_count": 8,
   "metadata": {},
   "outputs": [
    {
     "name": "stdout",
     "output_type": "stream",
     "text": [
      "fields=name%2Cfirmware_version%2Cdate_created%2Clast_modified%2Clast_seen%2Cuptime%2Cposition_rating%2Cchannel_state%2Cchannel_flags%2Caltitude%2Clocation_type%2Clatitude%2Clongitude\n"
     ]
    }
   ],
   "source": [
    "#Setting parameters for API\n",
    "fields = ['name', 'firmware_version','date_created','last_modified','last_seen','uptime','position_rating','channel_state','channel_flags','altitude',\n",
    "          'location_type','latitude', 'longitude']\n",
    "\n",
    "fields_string = 'fields=' + '%2C'.join(fields)\n",
    "\n",
    "print(fields_string)"
   ]
  },
  {
   "cell_type": "code",
   "execution_count": 9,
   "metadata": {},
   "outputs": [
    {
     "name": "stdout",
     "output_type": "stream",
     "text": [
      "fields=name%2Cfirmware_version%2Cdate_created%2Clast_modified%2Clast_seen%2Cuptime%2Cposition_rating%2Cchannel_state%2Cchannel_flags%2Caltitude%2Clocation_type%2Clatitude%2Clongitude&nwlng=-93.43046973986235&nwlat=45.12326140727048&selng=-93.09304872066019&selat=44.81857616148092\n"
     ]
    }
   ],
   "source": [
    "#finalizing query for API function\n",
    "query_string = '&'.join([fields_string, bounds_string])\n",
    "\n",
    "print(query_string)"
   ]
  },
  {
   "cell_type": "code",
   "execution_count": 10,
   "metadata": {},
   "outputs": [
    {
     "name": "stdout",
     "output_type": "stream",
     "text": [
      "Here is the full url for the API call:\n",
      "\n",
      " https://api.purpleair.com/v1/sensors?fields=name%2Cfirmware_version%2Cdate_created%2Clast_modified%2Clast_seen%2Cuptime%2Cposition_rating%2Cchannel_state%2Cchannel_flags%2Caltitude%2Clocation_type%2Clatitude%2Clongitude&nwlng=-93.43046973986235&nwlat=45.12326140727048&selng=-93.09304872066019&selat=44.81857616148092\n"
     ]
    }
   ],
   "source": [
    "#calling the API\n",
    "response = getSensorsData(query_string, api)"
   ]
  },
  {
   "cell_type": "code",
   "execution_count": 11,
   "metadata": {},
   "outputs": [
    {
     "name": "stdout",
     "output_type": "stream",
     "text": [
      "<class 'pandas.core.frame.DataFrame'>\n",
      "RangeIndex: 92 entries, 0 to 91\n",
      "Data columns (total 14 columns):\n",
      " #   Column            Non-Null Count  Dtype \n",
      "---  ------            --------------  ----- \n",
      " 0   sensor_index      92 non-null     object\n",
      " 1   last_modified     92 non-null     object\n",
      " 2   date_created      92 non-null     object\n",
      " 3   last_seen         92 non-null     object\n",
      " 4   name              92 non-null     object\n",
      " 5   location_type     92 non-null     object\n",
      " 6   firmware_version  92 non-null     object\n",
      " 7   uptime            92 non-null     object\n",
      " 8   position_rating   92 non-null     object\n",
      " 9   latitude          92 non-null     object\n",
      " 10  longitude         92 non-null     object\n",
      " 11  altitude          92 non-null     object\n",
      " 12  channel_state     92 non-null     object\n",
      " 13  channel_flags     92 non-null     object\n",
      "dtypes: object(14)\n",
      "memory usage: 10.2+ KB\n"
     ]
    }
   ],
   "source": [
    "response_dict = response.json() # Read response as a json (dictionary)\n",
    "\n",
    "col_names = response_dict['fields']\n",
    "data = np.array(response_dict['data'])\n",
    "\n",
    "df = pd.DataFrame(data, columns = col_names)\n",
    "\n",
    "df.info()"
   ]
  },
  {
   "cell_type": "markdown",
   "metadata": {},
   "source": [
    "### Compare with the list of Ids from City"
   ]
  },
  {
   "cell_type": "code",
   "execution_count": 34,
   "metadata": {},
   "outputs": [],
   "source": [
    "# Load the list the City provided\n",
    "\n",
    "sensor_info = pd.read_excel(os.path.join(datapath, 'PA IDs and indexes.xlsx')) # Load as DataFrame\n",
    "\n",
    "ids_from_city = sensor_info['Sensor Index'].dropna().astype(int)"
   ]
  },
  {
   "cell_type": "code",
   "execution_count": 35,
   "metadata": {},
   "outputs": [],
   "source": [
    "# From what we just queried from PurpleAir \n",
    "# Only want the City's monitors\n",
    "\n",
    "is_city = df_stations.name.apply(lambda x: 'CITY OF MINNEAPOLIS' in x.upper())\n",
    "\n",
    "ids_from_PurpleAir = df[is_city].sensor_index.astype(int)"
   ]
  },
  {
   "cell_type": "code",
   "execution_count": 36,
   "metadata": {},
   "outputs": [],
   "source": [
    "# Now let's get the union of these two lists of ids\n",
    "\n",
    "ids_from_either = np.union1d(ids_from_city.values, ids_from_PurpleAir)"
   ]
  },
  {
   "cell_type": "code",
   "execution_count": 37,
   "metadata": {},
   "outputs": [
    {
     "data": {
      "text/plain": [
       "66"
      ]
     },
     "execution_count": 37,
     "metadata": {},
     "output_type": "execute_result"
    }
   ],
   "source": [
    "len(ids_from_either)"
   ]
  },
  {
   "cell_type": "markdown",
   "metadata": {},
   "source": [
    "### Final PurpleAir Query"
   ]
  },
  {
   "cell_type": "code",
   "execution_count": 45,
   "metadata": {},
   "outputs": [],
   "source": [
    "# One final query for this list of ids\n",
    "\n",
    "# Get start Times\n",
    "\n",
    "sensor_string = 'show_only=' + '%2C'.join(ids_from_either.astype(str))\n",
    "\n",
    "query_string = '&'.join([fields_string, sensor_string])"
   ]
  },
  {
   "cell_type": "code",
   "execution_count": 46,
   "metadata": {},
   "outputs": [
    {
     "name": "stdout",
     "output_type": "stream",
     "text": [
      "Here is the full url for the API call:\n",
      "\n",
      " https://api.purpleair.com/v1/sensors?fields=name%2Cfirmware_version%2Cdate_created%2Clast_modified%2Clast_seen%2Cuptime%2Cposition_rating%2Cchannel_state%2Cchannel_flags%2Caltitude%2Clocation_type%2Clatitude%2Clongitude&show_only=142718%2C142720%2C142724%2C142726%2C142728%2C142730%2C142732%2C142734%2C142736%2C142744%2C142748%2C142750%2C142752%2C142756%2C142772%2C142774%2C142852%2C143214%2C143216%2C143222%2C143224%2C143226%2C143238%2C143240%2C143242%2C143246%2C143248%2C143634%2C143636%2C143648%2C143656%2C143660%2C143666%2C143668%2C143916%2C143942%2C143944%2C145202%2C145204%2C145234%2C145242%2C145250%2C145262%2C145454%2C145470%2C145498%2C145502%2C145504%2C145506%2C145604%2C145610%2C145614%2C145616%2C156605%2C157747%2C157757%2C157785%2C157787%2C157837%2C157845%2C157861%2C157871%2C157877%2C157935%2C166459%2C168327\n"
     ]
    }
   ],
   "source": [
    "response = getSensorsData(query_string, api)\n",
    "\n",
    "response_dict = response.json() # Read response as a json (dictionary)\n",
    "\n",
    "col_names = response_dict['fields']\n",
    "data = np.array(response_dict['data'])\n",
    "\n",
    "sensors_df = pd.DataFrame(data, columns = col_names)"
   ]
  },
  {
   "cell_type": "markdown",
   "metadata": {},
   "source": [
    "## Cleaning PurpleAir Station Data"
   ]
  },
  {
   "cell_type": "code",
   "execution_count": 47,
   "metadata": {},
   "outputs": [
    {
     "data": {
      "text/html": [
       "<div>\n",
       "<style scoped>\n",
       "    .dataframe tbody tr th:only-of-type {\n",
       "        vertical-align: middle;\n",
       "    }\n",
       "\n",
       "    .dataframe tbody tr th {\n",
       "        vertical-align: top;\n",
       "    }\n",
       "\n",
       "    .dataframe thead th {\n",
       "        text-align: right;\n",
       "    }\n",
       "</style>\n",
       "<table border=\"1\" class=\"dataframe\">\n",
       "  <thead>\n",
       "    <tr style=\"text-align: right;\">\n",
       "      <th></th>\n",
       "      <th>sensor_index</th>\n",
       "      <th>last_modified</th>\n",
       "      <th>date_created</th>\n",
       "      <th>last_seen</th>\n",
       "      <th>name</th>\n",
       "      <th>location_type</th>\n",
       "      <th>firmware_version</th>\n",
       "      <th>uptime</th>\n",
       "      <th>position_rating</th>\n",
       "      <th>latitude</th>\n",
       "      <th>longitude</th>\n",
       "      <th>altitude</th>\n",
       "      <th>channel_state</th>\n",
       "      <th>channel_flags</th>\n",
       "    </tr>\n",
       "  </thead>\n",
       "  <tbody>\n",
       "    <tr>\n",
       "      <th>0</th>\n",
       "      <td>142718</td>\n",
       "      <td>1675359061</td>\n",
       "      <td>1642013869</td>\n",
       "      <td>1687806688</td>\n",
       "      <td>City of Minneapolis Community Air Monitoring P...</td>\n",
       "      <td>0</td>\n",
       "      <td>7.02</td>\n",
       "      <td>69503</td>\n",
       "      <td>5</td>\n",
       "      <td>44.995792</td>\n",
       "      <td>-93.295395</td>\n",
       "      <td>865</td>\n",
       "      <td>3</td>\n",
       "      <td>0</td>\n",
       "    </tr>\n",
       "    <tr>\n",
       "      <th>1</th>\n",
       "      <td>142720</td>\n",
       "      <td>1675359105</td>\n",
       "      <td>1642013875</td>\n",
       "      <td>1687806659</td>\n",
       "      <td>City of Minneapolis community air monitoring p...</td>\n",
       "      <td>0</td>\n",
       "      <td>7.02</td>\n",
       "      <td>52522</td>\n",
       "      <td>5</td>\n",
       "      <td>44.95617</td>\n",
       "      <td>-93.25471</td>\n",
       "      <td>856</td>\n",
       "      <td>3</td>\n",
       "      <td>0</td>\n",
       "    </tr>\n",
       "    <tr>\n",
       "      <th>2</th>\n",
       "      <td>142726</td>\n",
       "      <td>1675359066</td>\n",
       "      <td>1642013897</td>\n",
       "      <td>1687806636</td>\n",
       "      <td>City of Minneapolis Community Air Monitoring P...</td>\n",
       "      <td>0</td>\n",
       "      <td>7.02</td>\n",
       "      <td>35933</td>\n",
       "      <td>5</td>\n",
       "      <td>45.01507</td>\n",
       "      <td>-93.28903</td>\n",
       "      <td>889</td>\n",
       "      <td>3</td>\n",
       "      <td>0</td>\n",
       "    </tr>\n",
       "    <tr>\n",
       "      <th>3</th>\n",
       "      <td>142724</td>\n",
       "      <td>1681913464</td>\n",
       "      <td>1642013889</td>\n",
       "      <td>1687204606</td>\n",
       "      <td>City of Minneapolis Community Air Monitoring P...</td>\n",
       "      <td>0</td>\n",
       "      <td>7.02</td>\n",
       "      <td>40667</td>\n",
       "      <td>5</td>\n",
       "      <td>44.937218</td>\n",
       "      <td>-93.243866</td>\n",
       "      <td>853</td>\n",
       "      <td>3</td>\n",
       "      <td>0</td>\n",
       "    </tr>\n",
       "    <tr>\n",
       "      <th>4</th>\n",
       "      <td>142730</td>\n",
       "      <td>1675359088</td>\n",
       "      <td>1642013916</td>\n",
       "      <td>1687806654</td>\n",
       "      <td>City of Minneapolis Community Air Monitoring P...</td>\n",
       "      <td>0</td>\n",
       "      <td>7.02</td>\n",
       "      <td>13889</td>\n",
       "      <td>5</td>\n",
       "      <td>44.99218</td>\n",
       "      <td>-93.29627</td>\n",
       "      <td>862</td>\n",
       "      <td>3</td>\n",
       "      <td>0</td>\n",
       "    </tr>\n",
       "  </tbody>\n",
       "</table>\n",
       "</div>"
      ],
      "text/plain": [
       "  sensor_index last_modified date_created   last_seen  \\\n",
       "0       142718    1675359061   1642013869  1687806688   \n",
       "1       142720    1675359105   1642013875  1687806659   \n",
       "2       142726    1675359066   1642013897  1687806636   \n",
       "3       142724    1681913464   1642013889  1687204606   \n",
       "4       142730    1675359088   1642013916  1687806654   \n",
       "\n",
       "                                                name location_type  \\\n",
       "0  City of Minneapolis Community Air Monitoring P...             0   \n",
       "1  City of Minneapolis community air monitoring p...             0   \n",
       "2  City of Minneapolis Community Air Monitoring P...             0   \n",
       "3  City of Minneapolis Community Air Monitoring P...             0   \n",
       "4  City of Minneapolis Community Air Monitoring P...             0   \n",
       "\n",
       "  firmware_version uptime position_rating   latitude   longitude altitude  \\\n",
       "0             7.02  69503               5  44.995792  -93.295395      865   \n",
       "1             7.02  52522               5   44.95617   -93.25471      856   \n",
       "2             7.02  35933               5   45.01507   -93.28903      889   \n",
       "3             7.02  40667               5  44.937218  -93.243866      853   \n",
       "4             7.02  13889               5   44.99218   -93.29627      862   \n",
       "\n",
       "  channel_state channel_flags  \n",
       "0             3             0  \n",
       "1             3             0  \n",
       "2             3             0  \n",
       "3             3             0  \n",
       "4             3             0  "
      ]
     },
     "execution_count": 47,
     "metadata": {},
     "output_type": "execute_result"
    }
   ],
   "source": [
    "#visualizing API response\n",
    "sensors_df.head()"
   ]
  },
  {
   "cell_type": "code",
   "execution_count": 48,
   "metadata": {},
   "outputs": [
    {
     "data": {
      "text/plain": [
       "63"
      ]
     },
     "execution_count": 48,
     "metadata": {},
     "output_type": "execute_result"
    }
   ],
   "source": [
    "#find outside sensors\n",
    "df_outside = sensors_df[sensors_df.location_type =='0']\n",
    "len(df_outside)"
   ]
  },
  {
   "cell_type": "code",
   "execution_count": 49,
   "metadata": {},
   "outputs": [],
   "source": [
    "#drop the location_type now that we have filtered for outdoor sensors only\n",
    "df_stations = df_outside.drop('location_type', axis=1)"
   ]
  },
  {
   "cell_type": "code",
   "execution_count": 51,
   "metadata": {},
   "outputs": [],
   "source": [
    "#Converting UNIX date/time to pd\n",
    "df_stations['last_modified'] = pd.to_datetime(df_stations['last_modified'], unit='s')\n",
    "df_stations['date_created'] = pd.to_datetime(df_stations['date_created'], unit='s')\n",
    "df_stations['last_seen'] = pd.to_datetime(df_stations['last_seen'], unit='s')"
   ]
  },
  {
   "cell_type": "code",
   "execution_count": 52,
   "metadata": {},
   "outputs": [
    {
     "data": {
      "text/html": [
       "<div>\n",
       "<style scoped>\n",
       "    .dataframe tbody tr th:only-of-type {\n",
       "        vertical-align: middle;\n",
       "    }\n",
       "\n",
       "    .dataframe tbody tr th {\n",
       "        vertical-align: top;\n",
       "    }\n",
       "\n",
       "    .dataframe thead th {\n",
       "        text-align: right;\n",
       "    }\n",
       "</style>\n",
       "<table border=\"1\" class=\"dataframe\">\n",
       "  <thead>\n",
       "    <tr style=\"text-align: right;\">\n",
       "      <th></th>\n",
       "      <th>sensor_index</th>\n",
       "      <th>last_modified</th>\n",
       "      <th>date_created</th>\n",
       "      <th>last_seen</th>\n",
       "      <th>name</th>\n",
       "      <th>firmware_version</th>\n",
       "      <th>uptime</th>\n",
       "      <th>position_rating</th>\n",
       "      <th>latitude</th>\n",
       "      <th>longitude</th>\n",
       "      <th>altitude</th>\n",
       "      <th>channel_state</th>\n",
       "      <th>channel_flags</th>\n",
       "    </tr>\n",
       "  </thead>\n",
       "  <tbody>\n",
       "    <tr>\n",
       "      <th>0</th>\n",
       "      <td>142718</td>\n",
       "      <td>2023-02-02 17:31:01</td>\n",
       "      <td>2022-01-12 18:57:49</td>\n",
       "      <td>2023-06-26 19:11:28</td>\n",
       "      <td>City of Minneapolis Community Air Monitoring P...</td>\n",
       "      <td>7.02</td>\n",
       "      <td>69503</td>\n",
       "      <td>5</td>\n",
       "      <td>44.995792</td>\n",
       "      <td>-93.295395</td>\n",
       "      <td>865</td>\n",
       "      <td>3</td>\n",
       "      <td>0</td>\n",
       "    </tr>\n",
       "    <tr>\n",
       "      <th>1</th>\n",
       "      <td>142720</td>\n",
       "      <td>2023-02-02 17:31:45</td>\n",
       "      <td>2022-01-12 18:57:55</td>\n",
       "      <td>2023-06-26 19:10:59</td>\n",
       "      <td>City of Minneapolis community air monitoring p...</td>\n",
       "      <td>7.02</td>\n",
       "      <td>52522</td>\n",
       "      <td>5</td>\n",
       "      <td>44.95617</td>\n",
       "      <td>-93.25471</td>\n",
       "      <td>856</td>\n",
       "      <td>3</td>\n",
       "      <td>0</td>\n",
       "    </tr>\n",
       "    <tr>\n",
       "      <th>2</th>\n",
       "      <td>142726</td>\n",
       "      <td>2023-02-02 17:31:06</td>\n",
       "      <td>2022-01-12 18:58:17</td>\n",
       "      <td>2023-06-26 19:10:36</td>\n",
       "      <td>City of Minneapolis Community Air Monitoring P...</td>\n",
       "      <td>7.02</td>\n",
       "      <td>35933</td>\n",
       "      <td>5</td>\n",
       "      <td>45.01507</td>\n",
       "      <td>-93.28903</td>\n",
       "      <td>889</td>\n",
       "      <td>3</td>\n",
       "      <td>0</td>\n",
       "    </tr>\n",
       "    <tr>\n",
       "      <th>3</th>\n",
       "      <td>142724</td>\n",
       "      <td>2023-04-19 14:11:04</td>\n",
       "      <td>2022-01-12 18:58:09</td>\n",
       "      <td>2023-06-19 19:56:46</td>\n",
       "      <td>City of Minneapolis Community Air Monitoring P...</td>\n",
       "      <td>7.02</td>\n",
       "      <td>40667</td>\n",
       "      <td>5</td>\n",
       "      <td>44.937218</td>\n",
       "      <td>-93.243866</td>\n",
       "      <td>853</td>\n",
       "      <td>3</td>\n",
       "      <td>0</td>\n",
       "    </tr>\n",
       "    <tr>\n",
       "      <th>4</th>\n",
       "      <td>142730</td>\n",
       "      <td>2023-02-02 17:31:28</td>\n",
       "      <td>2022-01-12 18:58:36</td>\n",
       "      <td>2023-06-26 19:10:54</td>\n",
       "      <td>City of Minneapolis Community Air Monitoring P...</td>\n",
       "      <td>7.02</td>\n",
       "      <td>13889</td>\n",
       "      <td>5</td>\n",
       "      <td>44.99218</td>\n",
       "      <td>-93.29627</td>\n",
       "      <td>862</td>\n",
       "      <td>3</td>\n",
       "      <td>0</td>\n",
       "    </tr>\n",
       "    <tr>\n",
       "      <th>...</th>\n",
       "      <td>...</td>\n",
       "      <td>...</td>\n",
       "      <td>...</td>\n",
       "      <td>...</td>\n",
       "      <td>...</td>\n",
       "      <td>...</td>\n",
       "      <td>...</td>\n",
       "      <td>...</td>\n",
       "      <td>...</td>\n",
       "      <td>...</td>\n",
       "      <td>...</td>\n",
       "      <td>...</td>\n",
       "      <td>...</td>\n",
       "    </tr>\n",
       "    <tr>\n",
       "      <th>58</th>\n",
       "      <td>157871</td>\n",
       "      <td>2023-02-02 17:28:58</td>\n",
       "      <td>2022-08-03 00:51:31</td>\n",
       "      <td>2023-06-26 19:10:35</td>\n",
       "      <td>City of Minneapolis Community Air Monitoring P...</td>\n",
       "      <td>7.02</td>\n",
       "      <td>29814</td>\n",
       "      <td>5</td>\n",
       "      <td>44.934963</td>\n",
       "      <td>-93.27042</td>\n",
       "      <td>865</td>\n",
       "      <td>3</td>\n",
       "      <td>2</td>\n",
       "    </tr>\n",
       "    <tr>\n",
       "      <th>59</th>\n",
       "      <td>157877</td>\n",
       "      <td>2023-02-02 17:28:29</td>\n",
       "      <td>2022-08-03 00:51:38</td>\n",
       "      <td>2023-06-26 19:10:31</td>\n",
       "      <td>City of Minneapolis Community Air Monitoring P...</td>\n",
       "      <td>7.02</td>\n",
       "      <td>334</td>\n",
       "      <td>5</td>\n",
       "      <td>44.900864</td>\n",
       "      <td>-93.20838</td>\n",
       "      <td>849</td>\n",
       "      <td>3</td>\n",
       "      <td>0</td>\n",
       "    </tr>\n",
       "    <tr>\n",
       "      <th>60</th>\n",
       "      <td>157935</td>\n",
       "      <td>2023-02-02 17:29:02</td>\n",
       "      <td>2022-08-03 01:22:05</td>\n",
       "      <td>2023-06-26 19:09:40</td>\n",
       "      <td>City of Minneapolis Community Air Monitoring P...</td>\n",
       "      <td>7.02</td>\n",
       "      <td>33704</td>\n",
       "      <td>5</td>\n",
       "      <td>44.92983</td>\n",
       "      <td>-93.32441</td>\n",
       "      <td>900</td>\n",
       "      <td>3</td>\n",
       "      <td>0</td>\n",
       "    </tr>\n",
       "    <tr>\n",
       "      <th>61</th>\n",
       "      <td>166459</td>\n",
       "      <td>2023-04-05 15:37:02</td>\n",
       "      <td>2022-10-11 19:35:58</td>\n",
       "      <td>2023-06-26 19:11:43</td>\n",
       "      <td>City of Minneapolis Community Air Monitoring P...</td>\n",
       "      <td>7.02</td>\n",
       "      <td>13355</td>\n",
       "      <td>5</td>\n",
       "      <td>44.89575</td>\n",
       "      <td>-93.26829</td>\n",
       "      <td>843</td>\n",
       "      <td>3</td>\n",
       "      <td>0</td>\n",
       "    </tr>\n",
       "    <tr>\n",
       "      <th>62</th>\n",
       "      <td>168327</td>\n",
       "      <td>2023-02-02 17:32:31</td>\n",
       "      <td>2022-10-24 19:48:08</td>\n",
       "      <td>2023-06-26 19:11:19</td>\n",
       "      <td>City of Minneapolis Community Air Monitoring P...</td>\n",
       "      <td>7.02</td>\n",
       "      <td>22722</td>\n",
       "      <td>5</td>\n",
       "      <td>44.95249</td>\n",
       "      <td>-93.26352</td>\n",
       "      <td>872</td>\n",
       "      <td>3</td>\n",
       "      <td>0</td>\n",
       "    </tr>\n",
       "  </tbody>\n",
       "</table>\n",
       "<p>63 rows × 13 columns</p>\n",
       "</div>"
      ],
      "text/plain": [
       "   sensor_index       last_modified        date_created           last_seen  \\\n",
       "0        142718 2023-02-02 17:31:01 2022-01-12 18:57:49 2023-06-26 19:11:28   \n",
       "1        142720 2023-02-02 17:31:45 2022-01-12 18:57:55 2023-06-26 19:10:59   \n",
       "2        142726 2023-02-02 17:31:06 2022-01-12 18:58:17 2023-06-26 19:10:36   \n",
       "3        142724 2023-04-19 14:11:04 2022-01-12 18:58:09 2023-06-19 19:56:46   \n",
       "4        142730 2023-02-02 17:31:28 2022-01-12 18:58:36 2023-06-26 19:10:54   \n",
       "..          ...                 ...                 ...                 ...   \n",
       "58       157871 2023-02-02 17:28:58 2022-08-03 00:51:31 2023-06-26 19:10:35   \n",
       "59       157877 2023-02-02 17:28:29 2022-08-03 00:51:38 2023-06-26 19:10:31   \n",
       "60       157935 2023-02-02 17:29:02 2022-08-03 01:22:05 2023-06-26 19:09:40   \n",
       "61       166459 2023-04-05 15:37:02 2022-10-11 19:35:58 2023-06-26 19:11:43   \n",
       "62       168327 2023-02-02 17:32:31 2022-10-24 19:48:08 2023-06-26 19:11:19   \n",
       "\n",
       "                                                 name firmware_version uptime  \\\n",
       "0   City of Minneapolis Community Air Monitoring P...             7.02  69503   \n",
       "1   City of Minneapolis community air monitoring p...             7.02  52522   \n",
       "2   City of Minneapolis Community Air Monitoring P...             7.02  35933   \n",
       "3   City of Minneapolis Community Air Monitoring P...             7.02  40667   \n",
       "4   City of Minneapolis Community Air Monitoring P...             7.02  13889   \n",
       "..                                                ...              ...    ...   \n",
       "58  City of Minneapolis Community Air Monitoring P...             7.02  29814   \n",
       "59  City of Minneapolis Community Air Monitoring P...             7.02    334   \n",
       "60  City of Minneapolis Community Air Monitoring P...             7.02  33704   \n",
       "61  City of Minneapolis Community Air Monitoring P...             7.02  13355   \n",
       "62  City of Minneapolis Community Air Monitoring P...             7.02  22722   \n",
       "\n",
       "   position_rating   latitude   longitude altitude channel_state channel_flags  \n",
       "0                5  44.995792  -93.295395      865             3             0  \n",
       "1                5   44.95617   -93.25471      856             3             0  \n",
       "2                5   45.01507   -93.28903      889             3             0  \n",
       "3                5  44.937218  -93.243866      853             3             0  \n",
       "4                5   44.99218   -93.29627      862             3             0  \n",
       "..             ...        ...         ...      ...           ...           ...  \n",
       "58               5  44.934963   -93.27042      865             3             2  \n",
       "59               5  44.900864   -93.20838      849             3             0  \n",
       "60               5   44.92983   -93.32441      900             3             0  \n",
       "61               5   44.89575   -93.26829      843             3             0  \n",
       "62               5   44.95249   -93.26352      872             3             0  \n",
       "\n",
       "[63 rows x 13 columns]"
      ]
     },
     "execution_count": 52,
     "metadata": {},
     "output_type": "execute_result"
    }
   ],
   "source": [
    "df_stations"
   ]
  },
  {
   "cell_type": "code",
   "execution_count": 54,
   "metadata": {},
   "outputs": [],
   "source": [
    "# Save as geojson\n",
    "\n",
    "gdf_stations = gpd.GeoDataFrame(df_stations, \n",
    "                                geometry = gpd.points_from_xy(\n",
    "                                    df_stations.longitude,\n",
    "                                    df_stations.latitude,\n",
    "                                    crs = 'EPSG:4326')\n",
    "                               ).to_crs('EPSG:26915')\n",
    "\n",
    "gdf_stations.to_file(os.path.join(datapath, 'PurpleAir_Stations.geojson'))"
   ]
  },
  {
   "cell_type": "markdown",
   "metadata": {},
   "source": [
    "## Insert Data into SQL Table (Not Done)"
   ]
  },
  {
   "cell_type": "code",
   "execution_count": 64,
   "metadata": {},
   "outputs": [
    {
     "data": {
      "text/plain": [
       "0"
      ]
     },
     "execution_count": 64,
     "metadata": {},
     "output_type": "execute_result"
    }
   ],
   "source": [
    "# Get credentials\n",
    "\n",
    "cred_pth = os.path.join(os.getcwd(), '..', '..', 'database', 'db_credentials.txt')\n",
    "\n",
    "with open(cred_pth, 'r') as f:\n",
    "    \n",
    "    creds = f.readlines()[0].rstrip('\\n').split(', ')\n",
    "    \n",
    "# Connect to PostGIS Database\n",
    "\n",
    "pg_connection_dict = dict(zip(['dbname', 'user', 'password', 'port', 'host'], creds))\n",
    "\n",
    "connection = psycopg2.connect(**pg_connection_dict)"
   ]
  },
  {
   "cell_type": "code",
   "execution_count": 66,
   "metadata": {},
   "outputs": [],
   "source": [
    "#connect to the cursor\n",
    "cur = connection.cursor()\n",
    "\n",
    "# iterate over the dataframe and insert each row into the database using a SQL INSERT statement\n",
    "\n",
    "### NEED TO ADD WKT\n",
    "\n",
    "for index, row in df_stations.iterrows():\n",
    "    cur.execute('''\n",
    "    INSERT INTO PURPLEAIR_STATIONS (sensor_index, last_modified, date_created, last_seen, name, firmware_version, uptime, \n",
    "                        position_rating, latitude, longitude, altitude, channel_state, channel_flags, WKT)\n",
    "    VALUES (%s, %s, %s, %s, %s, %s, %s, %s, %s, %s, %s, ST_SetSRID(ST_GeomFromText(%s), 4326)::geometry)\n",
    "    ''', (row['sensor_index'], row['last_modified'], row['date_created'], row['last_seen'], row['name'], row['firmware_version'], \n",
    "          row['uptime'], row['position_rating'], row['altitude'], \n",
    "          row['channel_state'], row['channel_flags'], row['WKT']))\n",
    "    connection.commit()\n",
    "\n",
    "# Close the cursor and connection\n",
    "cursor.close()\n",
    "connection.close()"
   ]
  }
 ],
 "metadata": {
  "kernelspec": {
   "display_name": "Python 3 (ipykernel)",
   "language": "python",
   "name": "python3"
  },
  "language_info": {
   "codemirror_mode": {
    "name": "ipython",
    "version": 3
   },
   "file_extension": ".py",
   "mimetype": "text/x-python",
   "name": "python",
   "nbconvert_exporter": "python",
   "pygments_lexer": "ipython3",
   "version": "3.10.8"
  }
 },
 "nbformat": 4,
 "nbformat_minor": 4
}
