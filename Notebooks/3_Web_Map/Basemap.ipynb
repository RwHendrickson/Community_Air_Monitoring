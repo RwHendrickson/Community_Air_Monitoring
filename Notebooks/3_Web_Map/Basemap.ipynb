{
 "cells": [
  {
   "cell_type": "code",
   "execution_count": 1,
   "id": "b1bd1cc2-7ede-4848-860e-36ec7c24f809",
   "metadata": {},
   "outputs": [],
   "source": [
    "# Import Packages & Libraries\n",
    "\n",
    "import os\n",
    "\n",
    "# Analysis Libraries\n",
    "\n",
    "import numpy as np # For working with Arrays\n",
    "import pandas as pd # Data Manipulation\n",
    "import geopandas as gpd # Spatial Data Manipulation\n",
    "from scipy import interpolate as interp # # different interpolators\n",
    "import rasterio # Rasters\n",
    "from rasterio.transform import Affine\n",
    "\n",
    "# Visualization Libraries\n",
    "\n",
    "import matplotlib.pyplot as plt # Basic Plotting\n",
    "plt.style.use('ggplot') # \n",
    "import seaborn as sns # Statistical Plotting\n",
    "import contextily # Base Map Visualization\n",
    "\n",
    "# Interaction\n",
    "\n",
    "from ipywidgets import interact, interactive, fixed, interact_manual\n",
    "import ipywidgets as widgets\n",
    "import datetime # Time\n",
    "\n",
    "# Silence Warnings\n",
    "\n",
    "import warnings\n",
    "warnings.filterwarnings('ignore')"
   ]
  },
  {
   "cell_type": "markdown",
   "id": "de754f6c-26c4-4853-b483-e240f60a9481",
   "metadata": {},
   "source": [
    "## Load Data"
   ]
  },
  {
   "cell_type": "code",
   "execution_count": 2,
   "id": "1816f108-a66d-4f93-9c39-a4a1381e62f4",
   "metadata": {},
   "outputs": [],
   "source": [
    "datapath = os.path.join('..', '..', 'Data')\n",
    "\n",
    "# Boundary - From MetroCouncil 2010 CTU boundaries\n",
    "\n",
    "path = os.path.join(datapath, 'mpls_boundary.geojson')\n",
    "mpls = gpd.read_file(path)\n",
    "\n",
    "# PurpleAir Stations\n",
    "\n",
    "path = os.path.join(datapath, 'PurpleAir_Stations.geojson')\n",
    "stations = gpd.read_file(path)\n",
    "stations['sensor_index'] = stations.sensor_index.astype(int)\n",
    "\n",
    "# PM2.5 Readings and Daily Summaries - From Purple Air\n",
    "\n",
    "# Results are in micrograms/meter^3\n",
    "# Mn Health benchmarks found at: https://www.health.state.mn.us/communities/environment/risk/guidance/air/table.html\n",
    "\n",
    "path = os.path.join(datapath, 'daily_summaries.csv')\n",
    "daily_sums = pd.read_csv(path)\n",
    "daily_sums['date'] = pd.to_datetime(daily_sums.date)\n",
    "\n",
    "# Spikes\n",
    "\n",
    "path = os.path.join(datapath, 'all_spikes.csv')\n",
    "spikes = pd.read_csv(path)\n",
    "spikes['timestamp'] = pd.to_datetime(spikes.timestamp)"
   ]
  },
  {
   "cell_type": "code",
   "execution_count": null,
   "id": "5ddbd9ed-0f23-42b9-9454-14ad6c47bcb7",
   "metadata": {},
   "outputs": [],
   "source": []
  }
 ],
 "metadata": {
  "kernelspec": {
   "display_name": "Python 3 (ipykernel)",
   "language": "python",
   "name": "python3"
  },
  "language_info": {
   "codemirror_mode": {
    "name": "ipython",
    "version": 3
   },
   "file_extension": ".py",
   "mimetype": "text/x-python",
   "name": "python",
   "nbconvert_exporter": "python",
   "pygments_lexer": "ipython3",
   "version": "3.10.8"
  }
 },
 "nbformat": 4,
 "nbformat_minor": 5
}
